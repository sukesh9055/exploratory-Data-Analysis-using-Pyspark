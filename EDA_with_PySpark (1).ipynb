{
 "cells": [
  {
   "cell_type": "markdown",
   "metadata": {
    "id": "YdVgr1-aZihs"
   },
   "source": [
    "---\n",
    "# **Table of Contents**\n",
    "---\n",
    "\n",
    "**1.** [**Introduction**](#Section1)<br>\n",
    "**2.** [**Installing & Importing Libraries**](#Section2)<br>\n",
    "  - **2.1** [**Installing Libraries**](#Section21)\n",
    "  - **2.2** [**Importing Libraries**](#Section22)\n",
    "\n",
    "**3.** [**Data Acquisition & Description**](#Section3)<br>\n",
    "  - **3.1** [**Data Acquisition**](#Section31)\n",
    "  - **3.2** [**Data Description**](#Section32)\n",
    "\n",
    "**4.** [**Exploring Basic Dataframe Functions**](#Section4)<br>\n",
    "**5.** [**Data Pre-processing**](#Section5)<br>\n",
    "**6.** [**Exploratory Data Analysis**](#Section6)<br>\n",
    "**7.** [**Conclusion**](#Section7)<br>"
   ]
  },
  {
   "cell_type": "markdown",
   "metadata": {
    "id": "LvwK1yHrZ0f5"
   },
   "source": [
    "---\n",
    "<a name=Section1></a>\n",
    "# **1. Introduction**\n",
    "---\n",
    "\n",
    "-  PySpark is an **interface for Apache Spark** in Python.\n",
    "\n",
    "- It not only allows you to write Spark applications using Python APIs, but also provides the PySpark shell for **interactively analyzing** your data in a **distributed environment**.\n",
    "\n",
    "- PySpark supports most of Spark’s features such as **Spark SQL, DataFrame, Streaming, MLlib** (Machine Learning) and **Spark Core**.\n",
    "\n",
    "- In this case study, we will look into **creating a basic spark cluster**, **importing some data**, **check the various dataframe functionalities**, and **perform EDA** on the data using PySpark."
   ]
  },
  {
   "cell_type": "markdown",
   "metadata": {
    "id": "WE0qZDdPqUAz"
   },
   "source": [
    "---\n",
    "<a name = Section2></a>\n",
    "# **2. Installing & Importing Libraries**\n",
    "---"
   ]
  },
  {
   "cell_type": "markdown",
   "metadata": {
    "id": "aIVvfXocqUA0"
   },
   "source": [
    "<a name = Section21></a>\n",
    "### **2.1 Installing Libraries**\n",
    "\n",
    "- Installing **PySpark** and **HandySpark** libraries:"
   ]
  },
  {
   "cell_type": "code",
   "execution_count": 2,
   "metadata": {},
   "outputs": [],
   "source": [
    "import findspark\n",
    "findspark.init()"
   ]
  },
  {
   "cell_type": "code",
   "execution_count": 3,
   "metadata": {
    "colab": {
     "base_uri": "https://localhost:8080/"
    },
    "id": "5ScFdrgbPF0a",
    "outputId": "f13fa681-1106-4af6-f7ca-6d2b839846f0"
   },
   "outputs": [],
   "source": [
    "\n",
    "!pip install -q handyspark"
   ]
  },
  {
   "cell_type": "markdown",
   "metadata": {
    "id": "2iMcOSNlqDCb"
   },
   "source": [
    "<a name = Section22></a>\n",
    "### **2.2 Importing Libraries**"
   ]
  },
  {
   "cell_type": "code",
   "execution_count": 4,
   "metadata": {
    "id": "6guPaF6odM16"
   },
   "outputs": [
    {
     "name": "stderr",
     "output_type": "stream",
     "text": [
      "UsageError: unrecognized arguments: # To plot graphs inline the notebook\n"
     ]
    }
   ],
   "source": [
    "#-------------------------------------------------------------------------------------------------------------------------------\n",
    "from pyspark import SparkContext                                    # Importing SparkContext\n",
    "from pyspark.sql import SparkSession, Window, Row                   # Importing importing methods for creating a cluster\n",
    "from pyspark.sql import functions as F                              # Importing SQL Functions\n",
    "from pyspark.sql.functions import col, isnan, when, count           # Importing relevant dataframe functions\n",
    "from pyspark.sql.functions import *                                 # Importing inbuilt SQL Functions\n",
    "from pyspark.sql.types import *                                     # Importing SQL types\n",
    "#-------------------------------------------------------------------------------------------------------------------------------\n",
    "import matplotlib.pyplot as plt                                     # Popular plotting library\n",
    "%matplotlib inline                                                  # To plot graphs inline the notebook\n",
    "import seaborn as sns                                               # Advanced plotting library\n",
    "from handyspark import *                                            # Helper library to plot graphs\n",
    "#-------------------------------------------------------------------------------------------------------------------------------\n",
    "from pyspark.ml.feature import VectorAssembler                      # For processing dataset for ML\n",
    "#-------------------------------------------------------------------------------------------------------------------------------\n",
    "import warnings                                                     # Importing warning to disable runtime warnings\n",
    "warnings.filterwarnings(\"ignore\")                                   # Warnings will appear only once\n",
    "#-------------------------------------------------------------------------------------------------------------------------------"
   ]
  },
  {
   "cell_type": "markdown",
   "metadata": {
    "id": "yQ5c7pB5qI2n"
   },
   "source": [
    "<a name = Section23></a>\n",
    "### **2.3 Initializing a SparkSession**"
   ]
  },
  {
   "cell_type": "code",
   "execution_count": 5,
   "metadata": {
    "colab": {
     "base_uri": "https://localhost:8080/",
     "height": 219
    },
    "id": "34Q1RAlxLXqB",
    "outputId": "7baba68d-25a1-48d3-ffa0-4ad3505d24b7"
   },
   "outputs": [
    {
     "data": {
      "text/html": [
       "\n",
       "            <div>\n",
       "                <p><b>SparkSession - in-memory</b></p>\n",
       "                \n",
       "        <div>\n",
       "            <p><b>SparkContext</b></p>\n",
       "\n",
       "            <p><a href=\"http://192.168.202.1:4040\">Spark UI</a></p>\n",
       "\n",
       "            <dl>\n",
       "              <dt>Version</dt>\n",
       "                <dd><code>v3.0.3</code></dd>\n",
       "              <dt>Master</dt>\n",
       "                <dd><code>local[*]</code></dd>\n",
       "              <dt>AppName</dt>\n",
       "                <dd><code>carsSpark</code></dd>\n",
       "            </dl>\n",
       "        </div>\n",
       "        \n",
       "            </div>\n",
       "        "
      ],
      "text/plain": [
       "<pyspark.sql.session.SparkSession at 0x226bf211640>"
      ]
     },
     "execution_count": 5,
     "metadata": {},
     "output_type": "execute_result"
    }
   ],
   "source": [
    "# Building a spark app/session\n",
    "spark = SparkSession.builder.appName(\"carsSpark\").getOrCreate()\n",
    "\n",
    "# single cluster information\n",
    "spark"
   ]
  },
  {
   "cell_type": "markdown",
   "metadata": {
    "id": "FYH-DdMMqPfq"
   },
   "source": [
    "---\n",
    "<a name = Section3></a>\n",
    "# **3. Data Acquisition & Description**\n",
    "---\n",
    "\n",
    "- We will use Indian Car Price dataset that can be found [**here**](https://www.kaggle.com/datasets/nehalbirla/vehicle-dataset-from-cardekho).\n",
    "\n",
    "| File | Records | Features | Dataset Size |\n",
    "| :--: | :--: | :--: | :--: |\n",
    "| **cars data** | 301 | 9 | 17.21 kB |\n",
    "\n",
    "</br>\n",
    "\n",
    "- The dataset has the following columns:\n",
    "\n",
    "|ID|Feature name|Feature description|\n",
    "|:--|:--|:--|\n",
    "|1|**Car_Name**| Name of the car |\n",
    "|2|**Year**| Year of make |\n",
    "|3|**Selling_Price**| Selling Price of Car |\n",
    "|4|**Present_Price**| Current Price of Car |\n",
    "|5|**Kms_Driven**| Distance travelled by Car (in KMs) |\n",
    "|6|**Fuel_Type**| Type of fuel used by the Car |\n",
    "|7|**Seller_Type**| Type of Seller selling the car |\n",
    "|8|**Transmission**| Car Transmission type |\n",
    "|9|**Owner**| Type of Owner of the car |"
   ]
  },
  {
   "cell_type": "markdown",
   "metadata": {
    "id": "wyozSifku7cr"
   },
   "source": [
    "<a name = Section31></a>\n",
    "### **3.1 Data Acquisition**"
   ]
  },
  {
   "cell_type": "code",
   "execution_count": 7,
   "metadata": {
    "colab": {
     "base_uri": "https://localhost:8080/"
    },
    "id": "K1YfSz4NNXfx",
    "outputId": "93b03530-8165-4340-ec9a-0c31b3ff7692"
   },
   "outputs": [
    {
     "name": "stdout",
     "output_type": "stream",
     "text": [
      "Shape of the dataset:  (301, 9)\n",
      "+-------------+----+-------------+-------------+----------+---------+-----------+------------+-----+\n",
      "|     Car_Name|Year|Selling_Price|Present_Price|Kms_Driven|Fuel_Type|Seller_Type|Transmission|Owner|\n",
      "+-------------+----+-------------+-------------+----------+---------+-----------+------------+-----+\n",
      "|         ritz|2014|         3.35|         5.59|     27000|   Petrol|     Dealer|      Manual|    0|\n",
      "|          sx4|2013|         4.75|         9.54|     43000|   Diesel|     Dealer|      Manual|    0|\n",
      "|         ciaz|2017|         7.25|         9.85|      6900|   Petrol|     Dealer|      Manual|    0|\n",
      "|      wagon r|2011|         2.85|         4.15|      5200|   Petrol|     Dealer|      Manual|    0|\n",
      "|        swift|2014|          4.6|         6.87|     42450|   Diesel|     Dealer|      Manual|    0|\n",
      "|vitara brezza|2018|         9.25|         9.83|      2071|   Diesel|     Dealer|      Manual|    0|\n",
      "|         ciaz|2015|         6.75|         8.12|     18796|   Petrol|     Dealer|      Manual|    0|\n",
      "|      s cross|2015|          6.5|         8.61|     33429|   Diesel|     Dealer|      Manual|    0|\n",
      "|         ciaz|2016|         8.75|         8.89|     20273|   Diesel|     Dealer|      Manual|    0|\n",
      "|         ciaz|2015|         7.45|         8.92|     42367|   Diesel|     Dealer|      Manual|    0|\n",
      "+-------------+----+-------------+-------------+----------+---------+-----------+------------+-----+\n",
      "only showing top 10 rows\n",
      "\n"
     ]
    }
   ],
   "source": [
    "# Reading the data\n",
    "df = spark.read.csv('edadata/car data.csv', header=True, inferSchema=\"true\")\n",
    "\n",
    "# Shape of the dataset\n",
    "print('Shape of the dataset: ', (df.count(), len(df.columns)))\n",
    "\n",
    "# Displaying top n=10 rows\n",
    "df.show(n=10)"
   ]
  },
  {
   "cell_type": "code",
   "execution_count": 8,
   "metadata": {
    "colab": {
     "base_uri": "https://localhost:8080/"
    },
    "id": "KjMor3ZWNqFu",
    "outputId": "31cb70a6-a378-4d06-9257-2b9bc897bbf4"
   },
   "outputs": [
    {
     "data": {
      "text/plain": [
       "[Row(Car_Name='ritz', Year=2014, Selling_Price=3.35, Present_Price=5.59, Kms_Driven=27000, Fuel_Type='Petrol', Seller_Type='Dealer', Transmission='Manual', Owner=0),\n",
       " Row(Car_Name='sx4', Year=2013, Selling_Price=4.75, Present_Price=9.54, Kms_Driven=43000, Fuel_Type='Diesel', Seller_Type='Dealer', Transmission='Manual', Owner=0),\n",
       " Row(Car_Name='ciaz', Year=2017, Selling_Price=7.25, Present_Price=9.85, Kms_Driven=6900, Fuel_Type='Petrol', Seller_Type='Dealer', Transmission='Manual', Owner=0),\n",
       " Row(Car_Name='wagon r', Year=2011, Selling_Price=2.85, Present_Price=4.15, Kms_Driven=5200, Fuel_Type='Petrol', Seller_Type='Dealer', Transmission='Manual', Owner=0),\n",
       " Row(Car_Name='swift', Year=2014, Selling_Price=4.6, Present_Price=6.87, Kms_Driven=42450, Fuel_Type='Diesel', Seller_Type='Dealer', Transmission='Manual', Owner=0)]"
      ]
     },
     "execution_count": 8,
     "metadata": {},
     "output_type": "execute_result"
    }
   ],
   "source": [
    "# Alternatively, displaying the head of the data\n",
    "df.head(5)"
   ]
  },
  {
   "cell_type": "markdown",
   "metadata": {
    "id": "LfXkZBYcu0cR"
   },
   "source": [
    "<a name = Section32></a>\n",
    "### **3.2 Data Description**\n",
    "\n",
    "- In this section we will get **information about the data** and see some observations."
   ]
  },
  {
   "cell_type": "code",
   "execution_count": 10,
   "metadata": {
    "colab": {
     "base_uri": "https://localhost:8080/"
    },
    "id": "9WpQdOZdO8EZ",
    "outputId": "5edf7798-59cb-48da-cc14-05672c69724b"
   },
   "outputs": [
    {
     "name": "stdout",
     "output_type": "stream",
     "text": [
      "+-------+--------+------------------+-----------------+-----------------+-----------------+---------+-----------+------------+-------------------+\n",
      "|summary|Car_Name|              Year|    Selling_Price|    Present_Price|       Kms_Driven|Fuel_Type|Seller_Type|Transmission|              Owner|\n",
      "+-------+--------+------------------+-----------------+-----------------+-----------------+---------+-----------+------------+-------------------+\n",
      "|  count|     301|               301|              301|              301|              301|      301|        301|         301|                301|\n",
      "|   mean|   800.0|2013.6279069767443|4.661295681063127|7.628471760797344|36947.20598006644|     null|       null|        null|0.04318936877076412|\n",
      "| stddev|     NaN|2.8915541273367253|5.082811556177805|8.644115402015789|38886.88388206789|     null|       null|        null| 0.2479148926949198|\n",
      "|    min|     800|              2003|              0.1|             0.32|              500|      CNG|     Dealer|   Automatic|                  0|\n",
      "|    max|   xcent|              2018|             35.0|             92.6|           500000|   Petrol| Individual|      Manual|                  3|\n",
      "+-------+--------+------------------+-----------------+-----------------+-----------------+---------+-----------+------------+-------------------+\n",
      "\n"
     ]
    }
   ],
   "source": [
    "# Getting a description of the dataset, similar to pandas df.describe()\n",
    "df.describe().show()"
   ]
  },
  {
   "cell_type": "code",
   "execution_count": 11,
   "metadata": {
    "colab": {
     "base_uri": "https://localhost:8080/"
    },
    "id": "KpsHqS4hN6_O",
    "outputId": "68f9f1c2-2ed5-4420-8383-3124132248d6"
   },
   "outputs": [
    {
     "name": "stdout",
     "output_type": "stream",
     "text": [
      "root\n",
      " |-- Car_Name: string (nullable = true)\n",
      " |-- Year: integer (nullable = true)\n",
      " |-- Selling_Price: double (nullable = true)\n",
      " |-- Present_Price: double (nullable = true)\n",
      " |-- Kms_Driven: integer (nullable = true)\n",
      " |-- Fuel_Type: string (nullable = true)\n",
      " |-- Seller_Type: string (nullable = true)\n",
      " |-- Transmission: string (nullable = true)\n",
      " |-- Owner: integer (nullable = true)\n",
      "\n"
     ]
    }
   ],
   "source": [
    "# Checking for dataframe schema, similar to pandas df.info()\n",
    "df.printSchema()   "
   ]
  },
  {
   "cell_type": "markdown",
   "metadata": {
    "id": "eykb6jzRulpq"
   },
   "source": [
    "---\n",
    "<a name = Section4></a>\n",
    "# **4. Exploring Basic Dataframe Functions**\n",
    "---\n",
    "\n",
    "- PySpark has many functionalities similar to Pandas, let's explore some of them:"
   ]
  },
  {
   "cell_type": "markdown",
   "metadata": {
    "id": "SUdREIZ4wDKD"
   },
   "source": [
    "- Displaying a column of the dataset:"
   ]
  },
  {
   "cell_type": "code",
   "execution_count": 52,
   "metadata": {
    "colab": {
     "base_uri": "https://localhost:8080/"
    },
    "id": "QHPgoqKROTZa",
    "outputId": "2c841b07-faa2-44b8-de8d-c1fdbcd63f37"
   },
   "outputs": [
    {
     "name": "stdout",
     "output_type": "stream",
     "text": [
      "+----------+\n",
      "|Kms_Driven|\n",
      "+----------+\n",
      "|     27000|\n",
      "|     43000|\n",
      "|      6900|\n",
      "|      5200|\n",
      "|     42450|\n",
      "|      2071|\n",
      "|     18796|\n",
      "|     33429|\n",
      "|     20273|\n",
      "|     42367|\n",
      "|      2135|\n",
      "|     51000|\n",
      "|     15000|\n",
      "|     26000|\n",
      "|     77427|\n",
      "|     43000|\n",
      "|     41678|\n",
      "|     43000|\n",
      "|     35500|\n",
      "|     41442|\n",
      "+----------+\n",
      "only showing top 20 rows\n",
      "\n"
     ]
    }
   ],
   "source": [
    "# Displaying the values of a particular column\n",
    "df.select('Kms_Driven').show()"
   ]
  },
  {
   "cell_type": "markdown",
   "metadata": {},
   "source": [
    "### Continuous variables EDA list:\n",
    "\n",
    "missing values\n",
    "\n",
    "statistic values: mean, min, max, stddev, quantiles\n",
    "\n",
    "binning & distribution\n",
    "\n",
    "correlation\n",
    "### Categorical variables EDA list:\n",
    "\n",
    "missing values\n",
    "\n",
    "frequency table"
   ]
  },
  {
   "cell_type": "markdown",
   "metadata": {},
   "source": [
    "### Check the missings"
   ]
  },
  {
   "cell_type": "code",
   "execution_count": 47,
   "metadata": {},
   "outputs": [
    {
     "data": {
      "text/plain": [
       "0"
      ]
     },
     "execution_count": 47,
     "metadata": {},
     "output_type": "execute_result"
    }
   ],
   "source": [
    "df.where(col(\"Kms_Driven\").isNull()).count()"
   ]
  },
  {
   "cell_type": "code",
   "execution_count": 48,
   "metadata": {},
   "outputs": [
    {
     "data": {
      "text/plain": [
       "0"
      ]
     },
     "execution_count": 48,
     "metadata": {},
     "output_type": "execute_result"
    }
   ],
   "source": [
    "df.filter(col(\"Kms_Driven\").isNull()).count()"
   ]
  },
  {
   "cell_type": "markdown",
   "metadata": {},
   "source": [
    "### statistic values: mean, min, max, stddev, quantiles"
   ]
  },
  {
   "cell_type": "code",
   "execution_count": 51,
   "metadata": {
    "collapsed": true
   },
   "outputs": [
    {
     "name": "stdout",
     "output_type": "stream",
     "text": [
      "+-------+--------+------------------+-----------------+-----------------+-----------------+---------+-----------+------------+-------------------+\n",
      "|summary|Car_Name|              Year|    Selling_Price|    Present_Price|       Kms_Driven|Fuel_Type|Seller_Type|Transmission|              Owner|\n",
      "+-------+--------+------------------+-----------------+-----------------+-----------------+---------+-----------+------------+-------------------+\n",
      "|  count|     301|               301|              301|              301|              301|      301|        301|         301|                301|\n",
      "|   mean|   800.0|2013.6279069767443|4.661295681063127|7.628471760797344|36947.20598006644|     null|       null|        null|0.04318936877076412|\n",
      "| stddev|     NaN|2.8915541273367253|5.082811556177805|8.644115402015789|38886.88388206789|     null|       null|        null| 0.2479148926949198|\n",
      "|    min|     800|              2003|              0.1|             0.32|              500|      CNG|     Dealer|   Automatic|                  0|\n",
      "|    max|   xcent|              2018|             35.0|             92.6|           500000|   Petrol| Individual|      Manual|                  3|\n",
      "+-------+--------+------------------+-----------------+-----------------+-----------------+---------+-----------+------------+-------------------+\n",
      "\n"
     ]
    }
   ],
   "source": [
    "df.describe().show(5)"
   ]
  },
  {
   "cell_type": "markdown",
   "metadata": {},
   "source": [
    "### Correlation"
   ]
  },
  {
   "cell_type": "code",
   "execution_count": 58,
   "metadata": {},
   "outputs": [],
   "source": [
    "from pyspark.mllib.stat import Statistics\n",
    "df_features = df.select('Selling_Price','Present_Price')\n",
    "rdd_table = df_features.rdd.map(lambda row: row[0:])\n",
    "corr_mat=Statistics.corr(rdd_table,method=\"pearson\")"
   ]
  },
  {
   "cell_type": "code",
   "execution_count": 66,
   "metadata": {},
   "outputs": [
    {
     "data": {
      "text/plain": [
       "array([[1.        , 0.87898255],\n",
       "       [0.87898255, 1.        ]])"
      ]
     },
     "execution_count": 66,
     "metadata": {},
     "output_type": "execute_result"
    }
   ],
   "source": [
    "corr_mat"
   ]
  },
  {
   "cell_type": "code",
   "execution_count": null,
   "metadata": {},
   "outputs": [],
   "source": []
  },
  {
   "cell_type": "code",
   "execution_count": null,
   "metadata": {},
   "outputs": [],
   "source": []
  },
  {
   "cell_type": "markdown",
   "metadata": {
    "id": "X_h82eIDy3p2"
   },
   "source": [
    "- Displaying multiple columns of the dataset:"
   ]
  },
  {
   "cell_type": "code",
   "execution_count": 13,
   "metadata": {
    "colab": {
     "base_uri": "https://localhost:8080/"
    },
    "id": "IFJZbFovOo95",
    "outputId": "d8437332-4fa7-49a0-c79c-db643beca476",
    "scrolled": true
   },
   "outputs": [
    {
     "name": "stdout",
     "output_type": "stream",
     "text": [
      "+-------------+-------------+\n",
      "|Selling_Price|Present_Price|\n",
      "+-------------+-------------+\n",
      "|         3.35|         5.59|\n",
      "|         4.75|         9.54|\n",
      "|         7.25|         9.85|\n",
      "|         2.85|         4.15|\n",
      "|          4.6|         6.87|\n",
      "|         9.25|         9.83|\n",
      "|         6.75|         8.12|\n",
      "|          6.5|         8.61|\n",
      "|         8.75|         8.89|\n",
      "|         7.45|         8.92|\n",
      "|         2.85|          3.6|\n",
      "|         6.85|        10.38|\n",
      "|          7.5|         9.94|\n",
      "|          6.1|         7.71|\n",
      "|         2.25|         7.21|\n",
      "|         7.75|        10.79|\n",
      "|         7.25|        10.79|\n",
      "|         7.75|        10.79|\n",
      "|         3.25|         5.09|\n",
      "|         2.65|         7.98|\n",
      "+-------------+-------------+\n",
      "only showing top 20 rows\n",
      "\n"
     ]
    }
   ],
   "source": [
    "# Selecting multiple columns\n",
    "df.select(['Selling_Price','Present_Price']).show()"
   ]
  },
  {
   "cell_type": "markdown",
   "metadata": {
    "id": "eS5T4cX1w435"
   },
   "source": [
    "- Checking the **dataframe** and **column type**:"
   ]
  },
  {
   "cell_type": "code",
   "execution_count": 14,
   "metadata": {
    "colab": {
     "base_uri": "https://localhost:8080/"
    },
    "id": "zGQSitFkOeZM",
    "outputId": "0e37d235-b182-4682-f3c8-bb2c2fa62a30"
   },
   "outputs": [
    {
     "name": "stdout",
     "output_type": "stream",
     "text": [
      "<class 'pyspark.sql.dataframe.DataFrame'>\n",
      "<class 'pyspark.sql.dataframe.DataFrame'>\n"
     ]
    }
   ],
   "source": [
    "# Checking type of dataframe\n",
    "print(type(df))\n",
    "\n",
    "# Checking type of column data\n",
    "print(type(df.select('Selling_Price')))"
   ]
  },
  {
   "cell_type": "markdown",
   "metadata": {
    "id": "eDuM_FgCzTtZ"
   },
   "source": [
    "- Checking the **datatypes** of columns:"
   ]
  },
  {
   "cell_type": "code",
   "execution_count": 15,
   "metadata": {
    "colab": {
     "base_uri": "https://localhost:8080/"
    },
    "id": "N3AgJhPXO5H0",
    "outputId": "998ac641-d29d-470e-cd3c-90ef6be2a67b"
   },
   "outputs": [
    {
     "data": {
      "text/plain": [
       "[('Car_Name', 'string'),\n",
       " ('Year', 'int'),\n",
       " ('Selling_Price', 'double'),\n",
       " ('Present_Price', 'double'),\n",
       " ('Kms_Driven', 'int'),\n",
       " ('Fuel_Type', 'string'),\n",
       " ('Seller_Type', 'string'),\n",
       " ('Transmission', 'string'),\n",
       " ('Owner', 'int')]"
      ]
     },
     "execution_count": 15,
     "metadata": {},
     "output_type": "execute_result"
    }
   ],
   "source": [
    "# Displaying dtypes of columns\n",
    "df.dtypes"
   ]
  },
  {
   "cell_type": "markdown",
   "metadata": {
    "id": "tRmo7Vahy-iM"
   },
   "source": [
    "- Filtering out the **top 5 rows** and displaying them:"
   ]
  },
  {
   "cell_type": "code",
   "execution_count": 16,
   "metadata": {
    "colab": {
     "base_uri": "https://localhost:8080/"
    },
    "id": "p6iJ3JqsOvkk",
    "outputId": "33839468-f087-42df-8800-7af8017a6ef2"
   },
   "outputs": [
    {
     "name": "stdout",
     "output_type": "stream",
     "text": [
      "+--------+----+-------------+-------------+----------+---------+-----------+------------+-----+\n",
      "|Car_Name|Year|Selling_Price|Present_Price|Kms_Driven|Fuel_Type|Seller_Type|Transmission|Owner|\n",
      "+--------+----+-------------+-------------+----------+---------+-----------+------------+-----+\n",
      "|    ritz|2014|         3.35|         5.59|     27000|   Petrol|     Dealer|      Manual|    0|\n",
      "|     sx4|2013|         4.75|         9.54|     43000|   Diesel|     Dealer|      Manual|    0|\n",
      "|    ciaz|2017|         7.25|         9.85|      6900|   Petrol|     Dealer|      Manual|    0|\n",
      "| wagon r|2011|         2.85|         4.15|      5200|   Petrol|     Dealer|      Manual|    0|\n",
      "|   swift|2014|          4.6|         6.87|     42450|   Diesel|     Dealer|      Manual|    0|\n",
      "+--------+----+-------------+-------------+----------+---------+-----------+------------+-----+\n",
      "\n"
     ]
    }
   ],
   "source": [
    "df1 = df.limit(5)\n",
    "df1.show()"
   ]
  },
  {
   "cell_type": "markdown",
   "metadata": {
    "id": "iCz_rbT4zE1M"
   },
   "source": [
    "- Filtering out the **top 5 rows** and displaying them, as well as displaying the rest of the dataframe."
   ]
  },
  {
   "cell_type": "code",
   "execution_count": 17,
   "metadata": {
    "colab": {
     "base_uri": "https://localhost:8080/"
    },
    "id": "VRQshiSwYypE",
    "outputId": "601a2fdc-2cbc-41ff-a343-a8171b7ebff6"
   },
   "outputs": [
    {
     "name": "stdout",
     "output_type": "stream",
     "text": [
      "First DataFrame\n",
      "+--------+----+-------------+-------------+----------+---------+-----------+------------+-----+\n",
      "|Car_Name|Year|Selling_Price|Present_Price|Kms_Driven|Fuel_Type|Seller_Type|Transmission|Owner|\n",
      "+--------+----+-------------+-------------+----------+---------+-----------+------------+-----+\n",
      "|    ritz|2014|         3.35|         5.59|     27000|   Petrol|     Dealer|      Manual|    0|\n",
      "|     sx4|2013|         4.75|         9.54|     43000|   Diesel|     Dealer|      Manual|    0|\n",
      "|    ciaz|2017|         7.25|         9.85|      6900|   Petrol|     Dealer|      Manual|    0|\n",
      "| wagon r|2011|         2.85|         4.15|      5200|   Petrol|     Dealer|      Manual|    0|\n",
      "|   swift|2014|          4.6|         6.87|     42450|   Diesel|     Dealer|      Manual|    0|\n",
      "+--------+----+-------------+-------------+----------+---------+-----------+------------+-----+\n",
      "\n",
      "Second DataFrame\n",
      "+-------------+----+-------------+-------------+----------+---------+-----------+------------+-----+\n",
      "|     Car_Name|Year|Selling_Price|Present_Price|Kms_Driven|Fuel_Type|Seller_Type|Transmission|Owner|\n",
      "+-------------+----+-------------+-------------+----------+---------+-----------+------------+-----+\n",
      "|vitara brezza|2018|         9.25|         9.83|      2071|   Diesel|     Dealer|      Manual|    0|\n",
      "|         ciaz|2015|         6.75|         8.12|     18796|   Petrol|     Dealer|      Manual|    0|\n",
      "|      s cross|2015|          6.5|         8.61|     33429|   Diesel|     Dealer|      Manual|    0|\n",
      "|         ciaz|2016|         8.75|         8.89|     20273|   Diesel|     Dealer|      Manual|    0|\n",
      "|         ciaz|2015|         7.45|         8.92|     42367|   Diesel|     Dealer|      Manual|    0|\n",
      "|     alto 800|2017|         2.85|          3.6|      2135|   Petrol|     Dealer|      Manual|    0|\n",
      "|         ciaz|2015|         6.85|        10.38|     51000|   Diesel|     Dealer|      Manual|    0|\n",
      "|         ciaz|2015|          7.5|         9.94|     15000|   Petrol|     Dealer|   Automatic|    0|\n",
      "|       ertiga|2015|          6.1|         7.71|     26000|   Petrol|     Dealer|      Manual|    0|\n",
      "|        dzire|2009|         2.25|         7.21|     77427|   Petrol|     Dealer|      Manual|    0|\n",
      "|       ertiga|2016|         7.75|        10.79|     43000|   Diesel|     Dealer|      Manual|    0|\n",
      "|       ertiga|2015|         7.25|        10.79|     41678|   Diesel|     Dealer|      Manual|    0|\n",
      "|       ertiga|2016|         7.75|        10.79|     43000|   Diesel|     Dealer|      Manual|    0|\n",
      "|      wagon r|2015|         3.25|         5.09|     35500|      CNG|     Dealer|      Manual|    0|\n",
      "|          sx4|2010|         2.65|         7.98|     41442|   Petrol|     Dealer|      Manual|    0|\n",
      "|     alto k10|2016|         2.85|         3.95|     25000|   Petrol|     Dealer|      Manual|    0|\n",
      "|        ignis|2017|          4.9|         5.71|      2400|   Petrol|     Dealer|      Manual|    0|\n",
      "|          sx4|2011|          4.4|         8.01|     50000|   Petrol|     Dealer|   Automatic|    0|\n",
      "|     alto k10|2014|          2.5|         3.46|     45280|   Petrol|     Dealer|      Manual|    0|\n",
      "|      wagon r|2013|          2.9|         4.41|     56879|   Petrol|     Dealer|      Manual|    0|\n",
      "+-------------+----+-------------+-------------+----------+---------+-----------+------------+-----+\n",
      "only showing top 20 rows\n",
      "\n"
     ]
    }
   ],
   "source": [
    "# getting the list of Row objects\n",
    "row_list = df.collect()\n",
    "  \n",
    "# Slicing the Python List\n",
    "part1 = row_list[:5]\n",
    "part2 = row_list[5:]\n",
    "  \n",
    "# Converting the slices to PySpark DataFrames\n",
    "slice1 = spark.createDataFrame(part1)\n",
    "slice2 = spark.createDataFrame(part2)\n",
    "  \n",
    "# Printing the first slice\n",
    "print('First DataFrame')\n",
    "slice1.show()\n",
    "  \n",
    "# Printing the second slice\n",
    "print('Second DataFrame')\n",
    "slice2.show()"
   ]
  },
  {
   "cell_type": "markdown",
   "metadata": {
    "id": "9NRGSCETzjNF"
   },
   "source": [
    "- Creating a **new column** and adding it to the dataset:"
   ]
  },
  {
   "cell_type": "code",
   "execution_count": 18,
   "metadata": {
    "colab": {
     "base_uri": "https://localhost:8080/"
    },
    "id": "AziR6ZalO_vM",
    "outputId": "d24d49e5-88d7-4057-c251-3d10f1cdd9f8"
   },
   "outputs": [
    {
     "name": "stdout",
     "output_type": "stream",
     "text": [
      "+-------------+----+-------------+-------------+----------+---------+-----------+------------+-----+-------+\n",
      "|     Car_Name|Year|Selling_Price|Present_Price|Kms_Driven|Fuel_Type|Seller_Type|Transmission|Owner|Car New|\n",
      "+-------------+----+-------------+-------------+----------+---------+-----------+------------+-----+-------+\n",
      "|         ritz|2014|         3.35|         5.59|     27000|   Petrol|     Dealer|      Manual|    0|  11.18|\n",
      "|          sx4|2013|         4.75|         9.54|     43000|   Diesel|     Dealer|      Manual|    0|  19.08|\n",
      "|         ciaz|2017|         7.25|         9.85|      6900|   Petrol|     Dealer|      Manual|    0|   19.7|\n",
      "|      wagon r|2011|         2.85|         4.15|      5200|   Petrol|     Dealer|      Manual|    0|    8.3|\n",
      "|        swift|2014|          4.6|         6.87|     42450|   Diesel|     Dealer|      Manual|    0|  13.74|\n",
      "|vitara brezza|2018|         9.25|         9.83|      2071|   Diesel|     Dealer|      Manual|    0|  19.66|\n",
      "|         ciaz|2015|         6.75|         8.12|     18796|   Petrol|     Dealer|      Manual|    0|  16.24|\n",
      "|      s cross|2015|          6.5|         8.61|     33429|   Diesel|     Dealer|      Manual|    0|  17.22|\n",
      "|         ciaz|2016|         8.75|         8.89|     20273|   Diesel|     Dealer|      Manual|    0|  17.78|\n",
      "|         ciaz|2015|         7.45|         8.92|     42367|   Diesel|     Dealer|      Manual|    0|  17.84|\n",
      "|     alto 800|2017|         2.85|          3.6|      2135|   Petrol|     Dealer|      Manual|    0|    7.2|\n",
      "|         ciaz|2015|         6.85|        10.38|     51000|   Diesel|     Dealer|      Manual|    0|  20.76|\n",
      "|         ciaz|2015|          7.5|         9.94|     15000|   Petrol|     Dealer|   Automatic|    0|  19.88|\n",
      "|       ertiga|2015|          6.1|         7.71|     26000|   Petrol|     Dealer|      Manual|    0|  15.42|\n",
      "|        dzire|2009|         2.25|         7.21|     77427|   Petrol|     Dealer|      Manual|    0|  14.42|\n",
      "|       ertiga|2016|         7.75|        10.79|     43000|   Diesel|     Dealer|      Manual|    0|  21.58|\n",
      "|       ertiga|2015|         7.25|        10.79|     41678|   Diesel|     Dealer|      Manual|    0|  21.58|\n",
      "|       ertiga|2016|         7.75|        10.79|     43000|   Diesel|     Dealer|      Manual|    0|  21.58|\n",
      "|      wagon r|2015|         3.25|         5.09|     35500|      CNG|     Dealer|      Manual|    0|  10.18|\n",
      "|          sx4|2010|         2.65|         7.98|     41442|   Petrol|     Dealer|      Manual|    0|  15.96|\n",
      "+-------------+----+-------------+-------------+----------+---------+-----------+------------+-----+-------+\n",
      "only showing top 20 rows\n",
      "\n"
     ]
    }
   ],
   "source": [
    "# Adding a new column to the dataset\n",
    "df1 = df.withColumn(\"Car New\", df['Present_Price']*2)\n",
    "\n",
    "# Displaying the new dataframe\n",
    "df1.show()"
   ]
  },
  {
   "cell_type": "markdown",
   "metadata": {
    "id": "By3RYSJw0Hbd"
   },
   "source": [
    "- Dropping the **new column** from the dataset:"
   ]
  },
  {
   "cell_type": "code",
   "execution_count": 19,
   "metadata": {
    "colab": {
     "base_uri": "https://localhost:8080/"
    },
    "id": "ggy-f0SwPdsD",
    "outputId": "7205f500-d5d3-4bcf-9df6-0f9fab486750"
   },
   "outputs": [
    {
     "name": "stdout",
     "output_type": "stream",
     "text": [
      "+-------------+----+-------------+-------------+----------+---------+-----------+------------+-----+\n",
      "|     Car_Name|Year|Selling_Price|Present_Price|Kms_Driven|Fuel_Type|Seller_Type|Transmission|Owner|\n",
      "+-------------+----+-------------+-------------+----------+---------+-----------+------------+-----+\n",
      "|         ritz|2014|         3.35|         5.59|     27000|   Petrol|     Dealer|      Manual|    0|\n",
      "|          sx4|2013|         4.75|         9.54|     43000|   Diesel|     Dealer|      Manual|    0|\n",
      "|         ciaz|2017|         7.25|         9.85|      6900|   Petrol|     Dealer|      Manual|    0|\n",
      "|      wagon r|2011|         2.85|         4.15|      5200|   Petrol|     Dealer|      Manual|    0|\n",
      "|        swift|2014|          4.6|         6.87|     42450|   Diesel|     Dealer|      Manual|    0|\n",
      "|vitara brezza|2018|         9.25|         9.83|      2071|   Diesel|     Dealer|      Manual|    0|\n",
      "|         ciaz|2015|         6.75|         8.12|     18796|   Petrol|     Dealer|      Manual|    0|\n",
      "|      s cross|2015|          6.5|         8.61|     33429|   Diesel|     Dealer|      Manual|    0|\n",
      "|         ciaz|2016|         8.75|         8.89|     20273|   Diesel|     Dealer|      Manual|    0|\n",
      "|         ciaz|2015|         7.45|         8.92|     42367|   Diesel|     Dealer|      Manual|    0|\n",
      "|     alto 800|2017|         2.85|          3.6|      2135|   Petrol|     Dealer|      Manual|    0|\n",
      "|         ciaz|2015|         6.85|        10.38|     51000|   Diesel|     Dealer|      Manual|    0|\n",
      "|         ciaz|2015|          7.5|         9.94|     15000|   Petrol|     Dealer|   Automatic|    0|\n",
      "|       ertiga|2015|          6.1|         7.71|     26000|   Petrol|     Dealer|      Manual|    0|\n",
      "|        dzire|2009|         2.25|         7.21|     77427|   Petrol|     Dealer|      Manual|    0|\n",
      "|       ertiga|2016|         7.75|        10.79|     43000|   Diesel|     Dealer|      Manual|    0|\n",
      "|       ertiga|2015|         7.25|        10.79|     41678|   Diesel|     Dealer|      Manual|    0|\n",
      "|       ertiga|2016|         7.75|        10.79|     43000|   Diesel|     Dealer|      Manual|    0|\n",
      "|      wagon r|2015|         3.25|         5.09|     35500|      CNG|     Dealer|      Manual|    0|\n",
      "|          sx4|2010|         2.65|         7.98|     41442|   Petrol|     Dealer|      Manual|    0|\n",
      "+-------------+----+-------------+-------------+----------+---------+-----------+------------+-----+\n",
      "only showing top 20 rows\n",
      "\n"
     ]
    }
   ],
   "source": [
    "# Dropping the newly added column\n",
    "df2 = df1.drop('Car New')\n",
    "\n",
    "# Displaying the new dataframe\n",
    "df2.show()"
   ]
  },
  {
   "cell_type": "markdown",
   "metadata": {
    "id": "Lr8SCR4z3ntZ"
   },
   "source": [
    "- Some functionalities may be **complicated in PySpark**.\n",
    "\n",
    "- So if you have a **small dataframe** like the one being used, you can **convert it to a Pandas dataframe** and make use of the seamless functionalities of Pandas."
   ]
  },
  {
   "cell_type": "code",
   "execution_count": null,
   "metadata": {
    "colab": {
     "base_uri": "https://localhost:8080/",
     "height": 241
    },
    "id": "YSpeP9rA3UNY",
    "outputId": "433a6fd5-7342-4d6c-cb24-0475a3dda332"
   },
   "outputs": [
    {
     "name": "stdout",
     "output_type": "stream",
     "text": [
      "Type of dataframe: <class 'pandas.core.frame.DataFrame'>\n",
      "Shape of the dataframe (Pandas version):  (301, 9)\n"
     ]
    },
    {
     "data": {
      "text/html": [
       "\n",
       "  <div id=\"df-6ee8bdec-14ef-4eda-83df-5f75bfb5ccc9\">\n",
       "    <div class=\"colab-df-container\">\n",
       "      <div>\n",
       "<style scoped>\n",
       "    .dataframe tbody tr th:only-of-type {\n",
       "        vertical-align: middle;\n",
       "    }\n",
       "\n",
       "    .dataframe tbody tr th {\n",
       "        vertical-align: top;\n",
       "    }\n",
       "\n",
       "    .dataframe thead th {\n",
       "        text-align: right;\n",
       "    }\n",
       "</style>\n",
       "<table border=\"1\" class=\"dataframe\">\n",
       "  <thead>\n",
       "    <tr style=\"text-align: right;\">\n",
       "      <th></th>\n",
       "      <th>Car_Name</th>\n",
       "      <th>Year</th>\n",
       "      <th>Selling_Price</th>\n",
       "      <th>Present_Price</th>\n",
       "      <th>Kms_Driven</th>\n",
       "      <th>Fuel_Type</th>\n",
       "      <th>Seller_Type</th>\n",
       "      <th>Transmission</th>\n",
       "      <th>Owner</th>\n",
       "    </tr>\n",
       "  </thead>\n",
       "  <tbody>\n",
       "    <tr>\n",
       "      <th>0</th>\n",
       "      <td>ritz</td>\n",
       "      <td>2014</td>\n",
       "      <td>3.35</td>\n",
       "      <td>5.59</td>\n",
       "      <td>27000</td>\n",
       "      <td>Petrol</td>\n",
       "      <td>Dealer</td>\n",
       "      <td>Manual</td>\n",
       "      <td>0</td>\n",
       "    </tr>\n",
       "    <tr>\n",
       "      <th>1</th>\n",
       "      <td>sx4</td>\n",
       "      <td>2013</td>\n",
       "      <td>4.75</td>\n",
       "      <td>9.54</td>\n",
       "      <td>43000</td>\n",
       "      <td>Diesel</td>\n",
       "      <td>Dealer</td>\n",
       "      <td>Manual</td>\n",
       "      <td>0</td>\n",
       "    </tr>\n",
       "    <tr>\n",
       "      <th>2</th>\n",
       "      <td>ciaz</td>\n",
       "      <td>2017</td>\n",
       "      <td>7.25</td>\n",
       "      <td>9.85</td>\n",
       "      <td>6900</td>\n",
       "      <td>Petrol</td>\n",
       "      <td>Dealer</td>\n",
       "      <td>Manual</td>\n",
       "      <td>0</td>\n",
       "    </tr>\n",
       "    <tr>\n",
       "      <th>3</th>\n",
       "      <td>wagon r</td>\n",
       "      <td>2011</td>\n",
       "      <td>2.85</td>\n",
       "      <td>4.15</td>\n",
       "      <td>5200</td>\n",
       "      <td>Petrol</td>\n",
       "      <td>Dealer</td>\n",
       "      <td>Manual</td>\n",
       "      <td>0</td>\n",
       "    </tr>\n",
       "    <tr>\n",
       "      <th>4</th>\n",
       "      <td>swift</td>\n",
       "      <td>2014</td>\n",
       "      <td>4.60</td>\n",
       "      <td>6.87</td>\n",
       "      <td>42450</td>\n",
       "      <td>Diesel</td>\n",
       "      <td>Dealer</td>\n",
       "      <td>Manual</td>\n",
       "      <td>0</td>\n",
       "    </tr>\n",
       "  </tbody>\n",
       "</table>\n",
       "</div>\n",
       "      <button class=\"colab-df-convert\" onclick=\"convertToInteractive('df-6ee8bdec-14ef-4eda-83df-5f75bfb5ccc9')\"\n",
       "              title=\"Convert this dataframe to an interactive table.\"\n",
       "              style=\"display:none;\">\n",
       "        \n",
       "  <svg xmlns=\"http://www.w3.org/2000/svg\" height=\"24px\"viewBox=\"0 0 24 24\"\n",
       "       width=\"24px\">\n",
       "    <path d=\"M0 0h24v24H0V0z\" fill=\"none\"/>\n",
       "    <path d=\"M18.56 5.44l.94 2.06.94-2.06 2.06-.94-2.06-.94-.94-2.06-.94 2.06-2.06.94zm-11 1L8.5 8.5l.94-2.06 2.06-.94-2.06-.94L8.5 2.5l-.94 2.06-2.06.94zm10 10l.94 2.06.94-2.06 2.06-.94-2.06-.94-.94-2.06-.94 2.06-2.06.94z\"/><path d=\"M17.41 7.96l-1.37-1.37c-.4-.4-.92-.59-1.43-.59-.52 0-1.04.2-1.43.59L10.3 9.45l-7.72 7.72c-.78.78-.78 2.05 0 2.83L4 21.41c.39.39.9.59 1.41.59.51 0 1.02-.2 1.41-.59l7.78-7.78 2.81-2.81c.8-.78.8-2.07 0-2.86zM5.41 20L4 18.59l7.72-7.72 1.47 1.35L5.41 20z\"/>\n",
       "  </svg>\n",
       "      </button>\n",
       "      \n",
       "  <style>\n",
       "    .colab-df-container {\n",
       "      display:flex;\n",
       "      flex-wrap:wrap;\n",
       "      gap: 12px;\n",
       "    }\n",
       "\n",
       "    .colab-df-convert {\n",
       "      background-color: #E8F0FE;\n",
       "      border: none;\n",
       "      border-radius: 50%;\n",
       "      cursor: pointer;\n",
       "      display: none;\n",
       "      fill: #1967D2;\n",
       "      height: 32px;\n",
       "      padding: 0 0 0 0;\n",
       "      width: 32px;\n",
       "    }\n",
       "\n",
       "    .colab-df-convert:hover {\n",
       "      background-color: #E2EBFA;\n",
       "      box-shadow: 0px 1px 2px rgba(60, 64, 67, 0.3), 0px 1px 3px 1px rgba(60, 64, 67, 0.15);\n",
       "      fill: #174EA6;\n",
       "    }\n",
       "\n",
       "    [theme=dark] .colab-df-convert {\n",
       "      background-color: #3B4455;\n",
       "      fill: #D2E3FC;\n",
       "    }\n",
       "\n",
       "    [theme=dark] .colab-df-convert:hover {\n",
       "      background-color: #434B5C;\n",
       "      box-shadow: 0px 1px 3px 1px rgba(0, 0, 0, 0.15);\n",
       "      filter: drop-shadow(0px 1px 2px rgba(0, 0, 0, 0.3));\n",
       "      fill: #FFFFFF;\n",
       "    }\n",
       "  </style>\n",
       "\n",
       "      <script>\n",
       "        const buttonEl =\n",
       "          document.querySelector('#df-6ee8bdec-14ef-4eda-83df-5f75bfb5ccc9 button.colab-df-convert');\n",
       "        buttonEl.style.display =\n",
       "          google.colab.kernel.accessAllowed ? 'block' : 'none';\n",
       "\n",
       "        async function convertToInteractive(key) {\n",
       "          const element = document.querySelector('#df-6ee8bdec-14ef-4eda-83df-5f75bfb5ccc9');\n",
       "          const dataTable =\n",
       "            await google.colab.kernel.invokeFunction('convertToInteractive',\n",
       "                                                     [key], {});\n",
       "          if (!dataTable) return;\n",
       "\n",
       "          const docLinkHtml = 'Like what you see? Visit the ' +\n",
       "            '<a target=\"_blank\" href=https://colab.research.google.com/notebooks/data_table.ipynb>data table notebook</a>'\n",
       "            + ' to learn more about interactive tables.';\n",
       "          element.innerHTML = '';\n",
       "          dataTable['output_type'] = 'display_data';\n",
       "          await google.colab.output.renderOutput(dataTable, element);\n",
       "          const docLink = document.createElement('div');\n",
       "          docLink.innerHTML = docLinkHtml;\n",
       "          element.appendChild(docLink);\n",
       "        }\n",
       "      </script>\n",
       "    </div>\n",
       "  </div>\n",
       "  "
      ],
      "text/plain": [
       "  Car_Name  Year  Selling_Price  Present_Price  Kms_Driven Fuel_Type  \\\n",
       "0     ritz  2014           3.35           5.59       27000    Petrol   \n",
       "1      sx4  2013           4.75           9.54       43000    Diesel   \n",
       "2     ciaz  2017           7.25           9.85        6900    Petrol   \n",
       "3  wagon r  2011           2.85           4.15        5200    Petrol   \n",
       "4    swift  2014           4.60           6.87       42450    Diesel   \n",
       "\n",
       "  Seller_Type Transmission  Owner  \n",
       "0      Dealer       Manual      0  \n",
       "1      Dealer       Manual      0  \n",
       "2      Dealer       Manual      0  \n",
       "3      Dealer       Manual      0  \n",
       "4      Dealer       Manual      0  "
      ]
     },
     "execution_count": 38,
     "metadata": {},
     "output_type": "execute_result"
    }
   ],
   "source": [
    "data = df.toPandas()\n",
    "print('Type of dataframe:', type(data))\n",
    "print('Shape of the dataframe (Pandas version): ', data.shape)\n",
    "data.head()"
   ]
  },
  {
   "cell_type": "markdown",
   "metadata": {
    "id": "WYqS7STm0L7B"
   },
   "source": [
    "- We have now seen some very basic commands that can be used to work with a dataframe.\n",
    "\n",
    "- Let's move on to **data pre-processing**."
   ]
  },
  {
   "cell_type": "markdown",
   "metadata": {
    "id": "UFtdmbf50m4H"
   },
   "source": [
    "---\n",
    "<a name = Section5></a>\n",
    "# **5. Data Pre-processing**\n",
    "---\n",
    "\n",
    "- PySpark doesn't have the sophisticated function like Pandas to check for null values.\n",
    "\n",
    "- But we have used a custom code to check for null values in a dataframe."
   ]
  },
  {
   "cell_type": "code",
   "execution_count": 20,
   "metadata": {
    "colab": {
     "base_uri": "https://localhost:8080/"
    },
    "id": "Q86r5Uxdfyhb",
    "outputId": "ecba1eaa-3441-4a97-875b-96f56df993db"
   },
   "outputs": [
    {
     "name": "stdout",
     "output_type": "stream",
     "text": [
      "+--------+----+-------------+-------------+----------+---------+-----------+------------+-----+\n",
      "|Car_Name|Year|Selling_Price|Present_Price|Kms_Driven|Fuel_Type|Seller_Type|Transmission|Owner|\n",
      "+--------+----+-------------+-------------+----------+---------+-----------+------------+-----+\n",
      "|       0|   0|            0|            0|         0|        0|          0|           0|    0|\n",
      "+--------+----+-------------+-------------+----------+---------+-----------+------------+-----+\n",
      "\n"
     ]
    }
   ],
   "source": [
    "# Creating a dataframe to check null value counts\n",
    "null_df = df.select([count(when(col(c).contains('None') | col(c).contains('NULL') | (col(c) == '') | col(c).isNull() | isnan(c), c )).alias(c)\n",
    "                    for c in df.columns])\n",
    "\n",
    "# Displaying the null value counts dataframe\n",
    "null_df.show()"
   ]
  },
  {
   "cell_type": "markdown",
   "metadata": {
    "id": "flkmnBZy02IM"
   },
   "source": [
    "- There are **no null values** in the dataframe.\n",
    "\n",
    "- We can now move with basic conversion of Year feature from int to datetime."
   ]
  },
  {
   "cell_type": "code",
   "execution_count": 21,
   "metadata": {
    "colab": {
     "base_uri": "https://localhost:8080/"
    },
    "id": "zIrAgT8FbiJx",
    "outputId": "946cad77-4aa1-4e1e-d86d-07a086f1340e"
   },
   "outputs": [
    {
     "name": "stdout",
     "output_type": "stream",
     "text": [
      "+-------------+----+-------------+-------------+----------+---------+-----------+------------+-----+\n",
      "|     Car_Name|Year|Selling_Price|Present_Price|Kms_Driven|Fuel_Type|Seller_Type|Transmission|Owner|\n",
      "+-------------+----+-------------+-------------+----------+---------+-----------+------------+-----+\n",
      "|         ritz|2014|         3.35|         5.59|     27000|   Petrol|     Dealer|      Manual|    0|\n",
      "|          sx4|2013|         4.75|         9.54|     43000|   Diesel|     Dealer|      Manual|    0|\n",
      "|         ciaz|2017|         7.25|         9.85|      6900|   Petrol|     Dealer|      Manual|    0|\n",
      "|      wagon r|2011|         2.85|         4.15|      5200|   Petrol|     Dealer|      Manual|    0|\n",
      "|        swift|2014|          4.6|         6.87|     42450|   Diesel|     Dealer|      Manual|    0|\n",
      "|vitara brezza|2018|         9.25|         9.83|      2071|   Diesel|     Dealer|      Manual|    0|\n",
      "|         ciaz|2015|         6.75|         8.12|     18796|   Petrol|     Dealer|      Manual|    0|\n",
      "|      s cross|2015|          6.5|         8.61|     33429|   Diesel|     Dealer|      Manual|    0|\n",
      "|         ciaz|2016|         8.75|         8.89|     20273|   Diesel|     Dealer|      Manual|    0|\n",
      "|         ciaz|2015|         7.45|         8.92|     42367|   Diesel|     Dealer|      Manual|    0|\n",
      "|     alto 800|2017|         2.85|          3.6|      2135|   Petrol|     Dealer|      Manual|    0|\n",
      "|         ciaz|2015|         6.85|        10.38|     51000|   Diesel|     Dealer|      Manual|    0|\n",
      "|         ciaz|2015|          7.5|         9.94|     15000|   Petrol|     Dealer|   Automatic|    0|\n",
      "|       ertiga|2015|          6.1|         7.71|     26000|   Petrol|     Dealer|      Manual|    0|\n",
      "|        dzire|2009|         2.25|         7.21|     77427|   Petrol|     Dealer|      Manual|    0|\n",
      "|       ertiga|2016|         7.75|        10.79|     43000|   Diesel|     Dealer|      Manual|    0|\n",
      "|       ertiga|2015|         7.25|        10.79|     41678|   Diesel|     Dealer|      Manual|    0|\n",
      "|       ertiga|2016|         7.75|        10.79|     43000|   Diesel|     Dealer|      Manual|    0|\n",
      "|      wagon r|2015|         3.25|         5.09|     35500|      CNG|     Dealer|      Manual|    0|\n",
      "|          sx4|2010|         2.65|         7.98|     41442|   Petrol|     Dealer|      Manual|    0|\n",
      "+-------------+----+-------------+-------------+----------+---------+-----------+------------+-----+\n",
      "only showing top 20 rows\n",
      "\n"
     ]
    }
   ],
   "source": [
    "# Converting Year to datetime\n",
    "df1 = df.withColumn(\"Year\", F.to_date(F.col(\"Year\").cast(\"string\"), 'yyyy'))\n",
    "\n",
    "# Extracting Year\n",
    "df = df1.withColumn('Year', F.year(F.to_timestamp('Year', 'yyyy')))\n",
    "df.show()"
   ]
  },
  {
   "cell_type": "markdown",
   "metadata": {
    "id": "EI2fY78ybfp8"
   },
   "source": [
    "---\n",
    "<a name = Section6></a>\n",
    "# **6. Exploratory Data Analysis**\n",
    "---\n",
    "\n",
    "\n"
   ]
  },
  {
   "cell_type": "markdown",
   "metadata": {
    "id": "lS_p5kky2zw6"
   },
   "source": [
    "- PySpark dataframes do not support visualizations like pandas does with its **plot()** method.\n",
    "\n",
    "- A lot of users simply convert their dataframe **to pandas** which does not translate well for **real-world big data** as pandas requires the whole data to be in the memory for processing and visualization.\n",
    "\n",
    "- But there is another library that bridges this gap by giving pandas like functionality to your PySpark dataframe without compromising with the drawbacks of pandas - **HandySpark**.\n",
    "\n",
    "- We can simply **convert** our **pyspark dataframe to handyspark dataframe** using the following code:"
   ]
  },
  {
   "cell_type": "code",
   "execution_count": 23,
   "metadata": {},
   "outputs": [],
   "source": [
    "from handyspark import *"
   ]
  },
  {
   "cell_type": "code",
   "execution_count": 24,
   "metadata": {
    "colab": {
     "base_uri": "https://localhost:8080/"
    },
    "id": "2mFi8qs9biHT",
    "outputId": "0206a910-0231-4c8f-a878-25c37027d227"
   },
   "outputs": [
    {
     "name": "stdout",
     "output_type": "stream",
     "text": [
      "+-------------+----+-------------+-------------+----------+---------+-----------+------------+-----+\n",
      "|     Car_Name|Year|Selling_Price|Present_Price|Kms_Driven|Fuel_Type|Seller_Type|Transmission|Owner|\n",
      "+-------------+----+-------------+-------------+----------+---------+-----------+------------+-----+\n",
      "|         ritz|2014|         3.35|         5.59|     27000|   Petrol|     Dealer|      Manual|    0|\n",
      "|          sx4|2013|         4.75|         9.54|     43000|   Diesel|     Dealer|      Manual|    0|\n",
      "|         ciaz|2017|         7.25|         9.85|      6900|   Petrol|     Dealer|      Manual|    0|\n",
      "|      wagon r|2011|         2.85|         4.15|      5200|   Petrol|     Dealer|      Manual|    0|\n",
      "|        swift|2014|          4.6|         6.87|     42450|   Diesel|     Dealer|      Manual|    0|\n",
      "|vitara brezza|2018|         9.25|         9.83|      2071|   Diesel|     Dealer|      Manual|    0|\n",
      "|         ciaz|2015|         6.75|         8.12|     18796|   Petrol|     Dealer|      Manual|    0|\n",
      "|      s cross|2015|          6.5|         8.61|     33429|   Diesel|     Dealer|      Manual|    0|\n",
      "|         ciaz|2016|         8.75|         8.89|     20273|   Diesel|     Dealer|      Manual|    0|\n",
      "|         ciaz|2015|         7.45|         8.92|     42367|   Diesel|     Dealer|      Manual|    0|\n",
      "|     alto 800|2017|         2.85|          3.6|      2135|   Petrol|     Dealer|      Manual|    0|\n",
      "|         ciaz|2015|         6.85|        10.38|     51000|   Diesel|     Dealer|      Manual|    0|\n",
      "|         ciaz|2015|          7.5|         9.94|     15000|   Petrol|     Dealer|   Automatic|    0|\n",
      "|       ertiga|2015|          6.1|         7.71|     26000|   Petrol|     Dealer|      Manual|    0|\n",
      "|        dzire|2009|         2.25|         7.21|     77427|   Petrol|     Dealer|      Manual|    0|\n",
      "|       ertiga|2016|         7.75|        10.79|     43000|   Diesel|     Dealer|      Manual|    0|\n",
      "|       ertiga|2015|         7.25|        10.79|     41678|   Diesel|     Dealer|      Manual|    0|\n",
      "|       ertiga|2016|         7.75|        10.79|     43000|   Diesel|     Dealer|      Manual|    0|\n",
      "|      wagon r|2015|         3.25|         5.09|     35500|      CNG|     Dealer|      Manual|    0|\n",
      "|          sx4|2010|         2.65|         7.98|     41442|   Petrol|     Dealer|      Manual|    0|\n",
      "+-------------+----+-------------+-------------+----------+---------+-----------+------------+-----+\n",
      "only showing top 20 rows\n",
      "\n"
     ]
    }
   ],
   "source": [
    "# Converting to handyspark dataframe\n",
    "hdf = df.toHandy()\n",
    "hdf.show()"
   ]
  },
  {
   "cell_type": "markdown",
   "metadata": {
    "id": "YtGi2wmd9L6c"
   },
   "source": [
    "## **Univariate Analysis**"
   ]
  },
  {
   "cell_type": "markdown",
   "metadata": {
    "id": "D_x8JgRi6luo"
   },
   "source": [
    "**<h4>Question 1:** What is the spread of the `Selling_Price` feature?</h4>"
   ]
  },
  {
   "cell_type": "markdown",
   "metadata": {
    "id": "in1eg2_z6cJa"
   },
   "source": [
    "- HandySpark provides a `hist()` method that can be used to plot **histograms** and **barplots**."
   ]
  },
  {
   "cell_type": "code",
   "execution_count": 25,
   "metadata": {
    "colab": {
     "base_uri": "https://localhost:8080/",
     "height": 444
    },
    "id": "2u-xl-wloDu6",
    "outputId": "5311b805-acb7-4545-8b69-225788bd4040"
   },
   "outputs": [
    {
     "data": {
      "image/png": "[encoded data removed]",
      "text/plain": [
       "<Figure size 720x504 with 1 Axes>"
      ]
     },
     "metadata": {
      "needs_background": "light"
     },
     "output_type": "display_data"
    }
   ],
   "source": [
    "fig, ax = plt.subplots(figsize=(10, 7))\n",
    "hdf.cols['Selling_Price'].hist(ax=ax)\n",
    "plt.show()"
   ]
  },
  {
   "cell_type": "markdown",
   "metadata": {
    "id": "4Jyey1NjEy1H"
   },
   "source": [
    "**Observation:**\n",
    "\n",
    "- We see a **right skewed distribution**.\n",
    "\n",
    "- **Max** **price** can go till **35 lacs** causing the skew.\n",
    "\n",
    "- **Majority** of the cars have price listings **under 15 lacs**."
   ]
  },
  {
   "cell_type": "markdown",
   "metadata": {
    "id": "w4qOhoRP67y-"
   },
   "source": [
    "**<h4>Question 2:** What is the distribution of classes for `Seller_Type` feature?</h4>"
   ]
  },
  {
   "cell_type": "code",
   "execution_count": 26,
   "metadata": {
    "colab": {
     "base_uri": "https://localhost:8080/",
     "height": 459
    },
    "id": "yd8lHbp7r3zE",
    "outputId": "4c3bc5e4-7e51-45da-f84b-ae39d4e4da95"
   },
   "outputs": [
    {
     "data": {
      "image/png": "[encoded data removed]",
      "text/plain": [
       "<Figure size 720x504 with 1 Axes>"
      ]
     },
     "metadata": {
      "needs_background": "light"
     },
     "output_type": "display_data"
    }
   ],
   "source": [
    "fig, ax = plt.subplots(figsize=(10, 7))\n",
    "hdf.cols['Seller_Type'].hist(ax=ax)\n",
    "plt.show()"
   ]
  },
  {
   "cell_type": "markdown",
   "metadata": {
    "id": "QqFcVaazEpzb"
   },
   "source": [
    "**Observation:**\n",
    "\n",
    "- **More than 175 sellers are dealers** and the rest are simply individuals looking for selling their cars."
   ]
  },
  {
   "cell_type": "markdown",
   "metadata": {
    "id": "rvgGGARB7F3P"
   },
   "source": [
    "**<h4>Question 3:** What is the distribution of classes for `Transmission` feature?</h4>"
   ]
  },
  {
   "cell_type": "code",
   "execution_count": 27,
   "metadata": {
    "colab": {
     "base_uri": "https://localhost:8080/",
     "height": 458
    },
    "id": "AVptRjDhr1hC",
    "outputId": "c5599775-082e-444e-ade3-0ac2b8814425"
   },
   "outputs": [
    {
     "data": {
      "image/png": "[encoded data removed]",
      "text/plain": [
       "<Figure size 720x504 with 1 Axes>"
      ]
     },
     "metadata": {
      "needs_background": "light"
     },
     "output_type": "display_data"
    }
   ],
   "source": [
    "fig, ax = plt.subplots(figsize=(10, 7))\n",
    "hdf.cols['Transmission'].hist(ax=ax)\n",
    "plt.show()"
   ]
  },
  {
   "cell_type": "markdown",
   "metadata": {
    "id": "3-ElyauoEVse"
   },
   "source": [
    "**Observation:**\n",
    "\n",
    "- Mostof the listed cars (> 250) are of **Manual transmission** type."
   ]
  },
  {
   "cell_type": "markdown",
   "metadata": {
    "id": "l-rcCZJM7L29"
   },
   "source": [
    "**<h4>Question 4:** What is the distribution of classes for `Owner` feature?</h4>"
   ]
  },
  {
   "cell_type": "code",
   "execution_count": 28,
   "metadata": {
    "colab": {
     "base_uri": "https://localhost:8080/",
     "height": 458
    },
    "id": "28TaANZLry_0",
    "outputId": "08ae632c-7e75-4eed-c888-4fa713a8225c"
   },
   "outputs": [
    {
     "data": {
      "image/png": "[encoded data removed]",
      "text/plain": [
       "<Figure size 720x504 with 1 Axes>"
      ]
     },
     "metadata": {
      "needs_background": "light"
     },
     "output_type": "display_data"
    }
   ],
   "source": [
    "fig, ax = plt.subplots(figsize=(10, 7))\n",
    "hdf.cols['Owner'].hist(ax=ax)\n",
    "plt.show()"
   ]
  },
  {
   "cell_type": "markdown",
   "metadata": {
    "id": "JelKI8rDDwCt"
   },
   "source": [
    "**Observation:**\n",
    "\n",
    "- We have **three owner types** where **0 indicates brand new cars** (0 previous owners), **1 indicates** that the car is **second-hand**, and **3 indicates** that there were **3 owners before** the car was listed.\n",
    "\n",
    "- There is just **one row which has Owner=3**."
   ]
  },
  {
   "cell_type": "markdown",
   "metadata": {
    "id": "vpPpCNjz9TWc"
   },
   "source": [
    "## **Multivariate Analysis**"
   ]
  },
  {
   "cell_type": "markdown",
   "metadata": {
    "id": "-ryPFGh19h1N"
   },
   "source": [
    "**<h4>Question 5:** Determine the relation between `Selling_Price` and `Kms_Driven` features?</h4>"
   ]
  },
  {
   "cell_type": "markdown",
   "metadata": {
    "id": "2Tv1lfJY9Y0m"
   },
   "source": [
    "- HandySpark's `scatterplot()` method can be used to plot **scatterplots**."
   ]
  },
  {
   "cell_type": "code",
   "execution_count": 29,
   "metadata": {
    "colab": {
     "base_uri": "https://localhost:8080/",
     "height": 443
    },
    "id": "_hCmp6YBsD69",
    "outputId": "a4cc7084-dddc-4d72-d354-5326358f9f73"
   },
   "outputs": [
    {
     "data": {
      "image/png": "[encoded data removed]",
      "text/plain": [
       "<Figure size 720x504 with 1 Axes>"
      ]
     },
     "metadata": {
      "needs_background": "light"
     },
     "output_type": "display_data"
    }
   ],
   "source": [
    "fig, ax = plt.subplots(figsize=(10, 7))\n",
    "hdf.cols[['Kms_Driven', 'Selling_Price']].scatterplot(ax=ax)\n",
    "plt.show()"
   ]
  },
  {
   "cell_type": "markdown",
   "metadata": {
    "id": "sPLEBqbr9kBF"
   },
   "source": [
    "**Observation:**\n",
    "\n",
    "- We **don't observe** any linear relation between **kms driven** and **selling price**."
   ]
  },
  {
   "cell_type": "markdown",
   "metadata": {
    "id": "bviCKDCVCcCf"
   },
   "source": [
    "**<h4>Question 6:** Determine the relation between `Selling_Price` and `Present_Price` features?</h4>"
   ]
  },
  {
   "cell_type": "code",
   "execution_count": 30,
   "metadata": {
    "colab": {
     "base_uri": "https://localhost:8080/",
     "height": 443
    },
    "id": "ga8fRHLOoKtD",
    "outputId": "e58e6ee5-dc11-4ca7-e200-b1d10e483075"
   },
   "outputs": [
    {
     "data": {
      "image/png": "[encoded data removed]",
      "text/plain": [
       "<Figure size 720x504 with 1 Axes>"
      ]
     },
     "metadata": {
      "needs_background": "light"
     },
     "output_type": "display_data"
    }
   ],
   "source": [
    "fig, ax = plt.subplots(figsize=(10, 7))\n",
    "hdf.cols[['Selling_Price', 'Present_Price']].scatterplot(ax=ax)\n",
    "plt.show()"
   ]
  },
  {
   "cell_type": "markdown",
   "metadata": {
    "id": "GTgjY3CB9xjp"
   },
   "source": [
    "**Observation:**\n",
    "\n",
    "- We **observe** a slight **linear relation** between **present price** and **selling price**."
   ]
  },
  {
   "cell_type": "markdown",
   "metadata": {
    "id": "y25Mwze9Yx5C"
   },
   "source": [
    "**<h4>Question 7:** Determine the relation between `Selling_Price` and `Transmission` Type features?</h4>\n",
    "\n",
    "- HandySpark offers a unique take on **groupby like commands** with the help of stratify method which works like **split-apply-combine approach**.\n",
    "\n",
    "- It will first **split** your HandyFrame according to the specified (discrete) columns, then it will **apply some function** to each stratum of data and finally **combine** the results back together.\n",
    "\n",
    "This is better illustrated with an example - let’s try the stratified version of `Transmission` feature:"
   ]
  },
  {
   "cell_type": "code",
   "execution_count": 33,
   "metadata": {
    "colab": {
     "base_uri": "https://localhost:8080/"
    },
    "id": "8RBbk-icYZYN",
    "outputId": "b5da430e-2da6-4604-ecf8-317c12e9b66e"
   },
   "outputs": [
    {
     "data": {
      "text/plain": [
       "Transmission\n",
       "Automatic    9.420000\n",
       "Manual       3.931992\n",
       "Name: Selling_Price, dtype: float64"
      ]
     },
     "execution_count": 33,
     "metadata": {},
     "output_type": "execute_result"
    }
   ],
   "source": [
    "hdf.stratify(['Transmission']).cols['Selling_Price'].mean()"
   ]
  },
  {
   "cell_type": "markdown",
   "metadata": {
    "id": "dm5uGUBOYghx"
   },
   "source": [
    "- Mean value for **Manual Transmission** cars is **3.9 lacs** and it is **9.4 lacs** for **Automatic**."
   ]
  },
  {
   "cell_type": "code",
   "execution_count": 34,
   "metadata": {
    "colab": {
     "base_uri": "https://localhost:8080/",
     "height": 514
    },
    "id": "RnctEo3FwvfI",
    "outputId": "4930d9fe-28b4-4c10-e3a5-70ac3468561e"
   },
   "outputs": [
    {
     "data": {
      "image/png": "[encoded data removed]",
      "text/plain": [
       "<Figure size 1080x504 with 2 Axes>"
      ]
     },
     "metadata": {
      "needs_background": "light"
     },
     "output_type": "display_data"
    }
   ],
   "source": [
    "hdf.stratify(['Transmission']).cols['Selling_Price'].hist(figsize=(15,7))\n",
    "plt.show()"
   ]
  },
  {
   "cell_type": "markdown",
   "metadata": {
    "id": "E32z0deZ93u8"
   },
   "source": [
    "**Observation:**\n",
    "\n",
    "- **Most** of the cars are of **Manual transmission** and are available under 20 lacs.\n",
    "\n",
    "- We can see that **equal number** of **Automatic transmission** cars are present for **all price ranges**."
   ]
  },
  {
   "cell_type": "markdown",
   "metadata": {},
   "source": [
    "## Handling missing data\n",
    "\n",
    "HandySpark makes it very easy to spot and fill missing values."
   ]
  },
  {
   "cell_type": "code",
   "execution_count": 35,
   "metadata": {
    "scrolled": true
   },
   "outputs": [
    {
     "data": {
      "text/plain": [
       "Car_Name         0.0\n",
       "Year             0.0\n",
       "Selling_Price    0.0\n",
       "Present_Price    0.0\n",
       "Kms_Driven       0.0\n",
       "Fuel_Type        0.0\n",
       "Seller_Type      0.0\n",
       "Transmission     0.0\n",
       "Owner            0.0\n",
       "Name: missing(ratio), dtype: float64"
      ]
     },
     "execution_count": 35,
     "metadata": {},
     "output_type": "execute_result"
    }
   ],
   "source": [
    "hdf.isnull(ratio=True)"
   ]
  },
  {
   "cell_type": "markdown",
   "metadata": {
    "id": "hf7wPfNICtZO"
   },
   "source": [
    "**<h4>Question 8:** Determine the relation between `Selling_Price` and `Seller_Type` features?</h4>"
   ]
  },
  {
   "cell_type": "code",
   "execution_count": null,
   "metadata": {
    "colab": {
     "base_uri": "https://localhost:8080/",
     "height": 514
    },
    "id": "g7w3wp5myYd7",
    "outputId": "1a171c96-9e8a-4f69-f7d4-9ddb8a1ee333"
   },
   "outputs": [
    {
     "data": {
      "image/png": "[encoded data removed]",
      "text/plain": [
       "<Figure size 1080x504 with 2 Axes>"
      ]
     },
     "metadata": {
      "needs_background": "light"
     },
     "output_type": "display_data"
    }
   ],
   "source": [
    "hdf.stratify(['Seller_Type']).cols['Selling_Price'].hist(figsize=(15,7))\n",
    "plt.show()"
   ]
  },
  {
   "cell_type": "markdown",
   "metadata": {
    "id": "n3uaRk_-B0-b"
   },
   "source": [
    "**Observation:**\n",
    "\n",
    "- **Individual sellers** are selling their cars **relatively cheaply** than the proper dealers."
   ]
  },
  {
   "cell_type": "markdown",
   "metadata": {
    "id": "QhgBksBaC2pi"
   },
   "source": [
    "**<h4>Question 9:** Determine the relation between `Selling_Price` and `Fuel_Type` features?</h4>"
   ]
  },
  {
   "cell_type": "code",
   "execution_count": 41,
   "metadata": {
    "colab": {
     "base_uri": "https://localhost:8080/",
     "height": 514
    },
    "id": "ZXzvW_OzysPy",
    "outputId": "3e243388-24f0-4441-b072-95e5c4610040"
   },
   "outputs": [
    {
     "data": {
      "image/png": "[encoded data removed]",
      "text/plain": [
       "<Figure size 1080x504 with 3 Axes>"
      ]
     },
     "metadata": {
      "needs_background": "light"
     },
     "output_type": "display_data"
    }
   ],
   "source": [
    "hdf.stratify(['Fuel_Type']).cols['Selling_Price'].hist(figsize=(15,7))\n",
    "plt.show()"
   ]
  },
  {
   "cell_type": "markdown",
   "metadata": {
    "id": "a_hmoIq2B-1d"
   },
   "source": [
    "**Observation:**\n",
    "\n",
    "- **CNG** fuel type cars are being sold the cheapest with their selling prices **less than 5 lacs**.\n",
    "\n",
    "- We can then see that **petrol cars** are listed in the most with max selling price around **20 lacs**.\n",
    "\n",
    "- **Diesel** car prices can go as high as **35 lacs**."
   ]
  },
  {
   "cell_type": "markdown",
   "metadata": {
    "id": "cg3d8-odC6Ag"
   },
   "source": [
    "**<h4>Question 10:** Plot a heatmap to check for correlations between features?</h4>"
   ]
  },
  {
   "cell_type": "code",
   "execution_count": null,
   "metadata": {
    "id": "yp3urm_x18a7"
   },
   "outputs": [],
   "source": [
    "# The following code should work if you are using python version < 3.6\n",
    "# from pyspark.ml.stat import Correlation\n",
    "# vector_col = \"Selling_Price\"\n",
    "# df_vector = featureassembler.transform(df).select(vector_col)\n",
    "\n",
    "# # get correlation matrix\n",
    "# matrix = Correlation.corr(df_vector, vector_col)\n",
    "# sns.heatmap(matrix, annot=True)"
   ]
  },
  {
   "cell_type": "code",
   "execution_count": 43,
   "metadata": {
    "colab": {
     "base_uri": "https://localhost:8080/",
     "height": 631
    },
    "id": "xqyElPKQAg60",
    "outputId": "5a78c13e-8dc5-4738-cea3-74b0998e2553"
   },
   "outputs": [
    {
     "name": "stdout",
     "output_type": "stream",
     "text": [
      "\n",
      "INFO: Safety is ON - returning up to 1000 instances.\n"
     ]
    },
    {
     "data": {
      "image/png": "[encoded data removed]",
      "text/plain": [
       "<Figure size 1080x720 with 2 Axes>"
      ]
     },
     "metadata": {
      "needs_background": "light"
     },
     "output_type": "display_data"
    }
   ],
   "source": [
    "# Not the recommended way but this was implemented due to pyspark library incompatibility with Python 3.6 or above.\n",
    "import seaborn as sns\n",
    "data = hdf.toPandas()\n",
    "plt.figure(figsize=(15,10))\n",
    "sns.heatmap(data.corr(), annot=True)\n",
    "plt.show()"
   ]
  },
  {
   "cell_type": "markdown",
   "metadata": {
    "id": "WQG6vTSoC-yD"
   },
   "source": [
    "**Observation:**\n",
    "\n",
    "- Selling_Price is highly correlated with Presnet_Price and is mildly influenced by Year of make as well.\n",
    "\n",
    "- We can see **Present_Price** is **slightly related** to **Kms_Driven** but is not influenced as much.\n",
    "\n",
    "- **Kms_Driven** and **Year** are **inversely correlated**, indicating that some listed cars are being driven since their make year."
   ]
  },
  {
   "cell_type": "markdown",
   "metadata": {
    "id": "95dICHa6WwRk"
   },
   "source": [
    "<a name = Section7></a>\n",
    "\n",
    "---\n",
    "# **7. Conclusion**\n",
    "---\n",
    "\n",
    "- We have finally performed **EDA on the cars data**, **extracted** some important insights that can be **useful for model building**.\n",
    "\n",
    "- In the next article, we will use a **VectorAssembler** for **preparing our data** for machine learning model.\n",
    "\n",
    "- This will be proceeded by a **linear regression** training and evaluation where we will observe whether the model is **able to fit the data properly** or not."
   ]
  }
 ],
 "metadata": {
  "colab": {
   "provenance": []
  },
  "kernelspec": {
   "display_name": "Python 3 (ipykernel)",
   "language": "python",
   "name": "python3"
  },
  "language_info": {
   "codemirror_mode": {
    "name": "ipython",
    "version": 3
   },
   "file_extension": ".py",
   "mimetype": "text/x-python",
   "name": "python",
   "nbconvert_exporter": "python",
   "pygments_lexer": "ipython3",
   "version": "3.9.12"
  }
 },
 "nbformat": 4,
 "nbformat_minor": 1
}
